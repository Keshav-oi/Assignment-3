{
  "nbformat": 4,
  "nbformat_minor": 0,
  "metadata": {
    "colab": {
      "provenance": []
    },
    "kernelspec": {
      "name": "python3",
      "display_name": "Python 3"
    },
    "language_info": {
      "name": "python"
    }
  },
  "cells": [
    {
      "cell_type": "code",
      "execution_count": null,
      "metadata": {
        "id": "mG6ffLUdF0os"
      },
      "outputs": [],
      "source": [
        "import torch\n",
        "import torch.nn.functional as F\n",
        "from torch import nn\n",
        "import pandas as pd\n",
        "import matplotlib.pyplot as plt # for making figures\n",
        "%matplotlib inline\n",
        "%config InlineBackend.figure_format = 'retina'\n",
        "from pprint import pprint"
      ]
    },
    {
      "cell_type": "code",
      "source": [
        "torch.__version__"
      ],
      "metadata": {
        "colab": {
          "base_uri": "https://localhost:8080/",
          "height": 36
        },
        "id": "JsU1VWWuF1cs",
        "outputId": "a85e6399-80f6-47ae-8dd4-fc5378c8052a"
      },
      "execution_count": null,
      "outputs": [
        {
          "output_type": "execute_result",
          "data": {
            "text/plain": [
              "'2.2.1+cu121'"
            ],
            "application/vnd.google.colaboratory.intrinsic+json": {
              "type": "string"
            }
          },
          "metadata": {},
          "execution_count": 18
        }
      ]
    },
    {
      "cell_type": "code",
      "source": [
        "device = torch.device(\"cuda\" if torch.cuda.is_available() else \"cpu\")\n",
        "device"
      ],
      "metadata": {
        "colab": {
          "base_uri": "https://localhost:8080/"
        },
        "id": "xi4w54JqF7vw",
        "outputId": "162143dc-b817-4932-8199-f38a06132d13"
      },
      "execution_count": null,
      "outputs": [
        {
          "output_type": "execute_result",
          "data": {
            "text/plain": [
              "device(type='cpu')"
            ]
          },
          "metadata": {},
          "execution_count": 19
        }
      ]
    },
    {
      "cell_type": "code",
      "source": [
        "!wget https://raw.githubusercontent.com/balasahebgulave/Dataset-Indian-Names/master/Indian_Names.csv -O names-long.csv"
      ],
      "metadata": {
        "colab": {
          "base_uri": "https://localhost:8080/"
        },
        "id": "KhTvLt8SGANH",
        "outputId": "1b91c23e-4aa6-4415-ae02-67b2e956ba59"
      },
      "execution_count": null,
      "outputs": [
        {
          "output_type": "stream",
          "name": "stdout",
          "text": [
            "--2024-03-21 06:20:00--  https://raw.githubusercontent.com/balasahebgulave/Dataset-Indian-Names/master/Indian_Names.csv\n",
            "Resolving raw.githubusercontent.com (raw.githubusercontent.com)... 185.199.111.133, 185.199.110.133, 185.199.109.133, ...\n",
            "Connecting to raw.githubusercontent.com (raw.githubusercontent.com)|185.199.111.133|:443... connected.\n",
            "HTTP request sent, awaiting response... 200 OK\n",
            "Length: 85538 (84K) [text/plain]\n",
            "Saving to: ‘names-long.csv’\n",
            "\n",
            "\rnames-long.csv        0%[                    ]       0  --.-KB/s               \rnames-long.csv      100%[===================>]  83.53K  --.-KB/s    in 0.01s   \n",
            "\n",
            "2024-03-21 06:20:00 (5.60 MB/s) - ‘names-long.csv’ saved [85538/85538]\n",
            "\n"
          ]
        }
      ]
    },
    {
      "cell_type": "code",
      "source": [
        "!head names-long.csv"
      ],
      "metadata": {
        "colab": {
          "base_uri": "https://localhost:8080/"
        },
        "id": "tzu4q2QEGCs8",
        "outputId": "0dd84ca9-6462-45a4-c088-b95c5bb8fc7e"
      },
      "execution_count": null,
      "outputs": [
        {
          "output_type": "stream",
          "name": "stdout",
          "text": [
            ",Name\r\n",
            "0,aabid\r\n",
            "1,aabida\r\n",
            "2,aachal\r\n",
            "3,aadesh\r\n",
            "4,aadil\r\n",
            "5,aadish\r\n",
            "6,aaditya\r\n",
            "7,aaenab\r\n",
            "8,aafreen\r\n"
          ]
        }
      ]
    },
    {
      "cell_type": "code",
      "source": [
        "!tail names-long.csv"
      ],
      "metadata": {
        "colab": {
          "base_uri": "https://localhost:8080/"
        },
        "id": "qdABCRavGFof",
        "outputId": "ebe344df-70ad-4e22-e380-a39d7dd89af7"
      },
      "execution_count": null,
      "outputs": [
        {
          "output_type": "stream",
          "name": "stdout",
          "text": [
            "6476,zeshan\r\n",
            "6477,zhini\r\n",
            "6478,ziarul\r\n",
            "6479,zile\r\n",
            "6480,zina\r\n",
            "6481,zishan\r\n",
            "6482,ziyabul\r\n",
            "6483,zoya\r\n",
            "6484,zuhaib\r\n",
            "6485,zuveb\r\n"
          ]
        }
      ]
    },
    {
      "cell_type": "code",
      "source": [
        "words = pd.read_csv('names-long.csv')[\"Name\"]\n",
        "words = words.str.lower()\n",
        "words = words.str.strip()\n",
        "words = words.str.replace(\" \", \"\")\n",
        "\n",
        "#select words that have length greater than 2 and less than 10.\n",
        "words = words[words.str.len() > 2]\n",
        "words = words[words.str.len() < 10]\n",
        "\n",
        "# Randomly shuffle the words\n",
        "words = words.sample(frac=1).reset_index(drop=True)\n",
        "words = words.tolist()\n",
        "\n",
        "# Remove words having non alphabets\n",
        "words = [word for word in words if word.isalpha()]\n",
        "words[:10]"
      ],
      "metadata": {
        "colab": {
          "base_uri": "https://localhost:8080/"
        },
        "id": "ozaGzGcyGIb7",
        "outputId": "7e03ab30-1709-4637-b8f9-0192eb128a47"
      },
      "execution_count": null,
      "outputs": [
        {
          "output_type": "execute_result",
          "data": {
            "text/plain": [
              "['amiraka',\n",
              " 'bachhu',\n",
              " 'vijaya',\n",
              " 'nosar',\n",
              " 'kaushar',\n",
              " 'sharat',\n",
              " 'neeti',\n",
              " 'dhawal',\n",
              " 'subhakar',\n",
              " 'shma']"
            ]
          },
          "metadata": {},
          "execution_count": 23
        }
      ]
    },
    {
      "cell_type": "code",
      "source": [
        "# build the vocabulary of characters and mappings to/from integers\n",
        "chars = sorted(list(set(''.join(words))))\n",
        "#print(chars)\n",
        "stoi = {s:i+1 for i,s in enumerate(chars)}\n",
        "#print(stoi)\n",
        "stoi['.'] = 0\n",
        "itos = {i:s for s,i in stoi.items()}\n",
        "pprint(itos)"
      ],
      "metadata": {
        "colab": {
          "base_uri": "https://localhost:8080/"
        },
        "id": "B7pJ9OP1G2IV",
        "outputId": "88bef6dc-a6cd-4f55-a6dd-9849d12c1376"
      },
      "execution_count": null,
      "outputs": [
        {
          "output_type": "stream",
          "name": "stdout",
          "text": [
            "{0: '.',\n",
            " 1: 'a',\n",
            " 2: 'b',\n",
            " 3: 'c',\n",
            " 4: 'd',\n",
            " 5: 'e',\n",
            " 6: 'f',\n",
            " 7: 'g',\n",
            " 8: 'h',\n",
            " 9: 'i',\n",
            " 10: 'j',\n",
            " 11: 'k',\n",
            " 12: 'l',\n",
            " 13: 'm',\n",
            " 14: 'n',\n",
            " 15: 'o',\n",
            " 16: 'p',\n",
            " 17: 'q',\n",
            " 18: 'r',\n",
            " 19: 's',\n",
            " 20: 't',\n",
            " 21: 'u',\n",
            " 22: 'v',\n",
            " 23: 'w',\n",
            " 24: 'x',\n",
            " 25: 'y',\n",
            " 26: 'z'}\n"
          ]
        }
      ]
    },
    {
      "cell_type": "code",
      "source": [
        "block_size = 5 # context length: how many characters do we take to predict the next one?\n",
        "X, Y = [], []\n",
        "for w in words[:]:\n",
        "\n",
        "  #print(w)\n",
        "  context = [0] * block_size\n",
        "  for ch in w + '.':\n",
        "    ix = stoi[ch]\n",
        "    X.append(context)\n",
        "    Y.append(ix)\n",
        "    #print(''.join(itos[i] for i in context), '--->', itos[ix])\n",
        "    context = context[1:] + [ix] # crop and append\n",
        "\n",
        "# Move data to GPU\n",
        "\n",
        "X = torch.tensor(X).to(device)\n",
        "Y = torch.tensor(Y).to(device)"
      ],
      "metadata": {
        "id": "95BjpHTlHXoj"
      },
      "execution_count": null,
      "outputs": []
    },
    {
      "cell_type": "code",
      "source": [
        "X.shape, X.dtype, Y.shape, Y.dtype"
      ],
      "metadata": {
        "colab": {
          "base_uri": "https://localhost:8080/"
        },
        "id": "u43TSEq5I30o",
        "outputId": "d4a0df01-50bf-4cd2-f5d6-1194799e0e49"
      },
      "execution_count": null,
      "outputs": [
        {
          "output_type": "execute_result",
          "data": {
            "text/plain": [
              "(torch.Size([44325, 5]), torch.int64, torch.Size([44325]), torch.int64)"
            ]
          },
          "metadata": {},
          "execution_count": 11
        }
      ]
    },
    {
      "cell_type": "code",
      "source": [
        "# Embedding layer for the context\n",
        "\n",
        "emb_dim = 4\n",
        "emb = torch.nn.Embedding(len(stoi), emb_dim)"
      ],
      "metadata": {
        "id": "DSP5eEUBI5ja"
      },
      "execution_count": null,
      "outputs": []
    },
    {
      "cell_type": "code",
      "source": [
        "emb.weight"
      ],
      "metadata": {
        "colab": {
          "base_uri": "https://localhost:8080/"
        },
        "id": "TqhLIjafM1gE",
        "outputId": "76f36889-ec9e-4d71-9e64-fa78e9024bd3"
      },
      "execution_count": null,
      "outputs": [
        {
          "output_type": "execute_result",
          "data": {
            "text/plain": [
              "Parameter containing:\n",
              "tensor([[-0.0661,  0.0294, -1.8128,  1.5212],\n",
              "        [ 0.5783,  0.3082, -0.4134, -0.8339],\n",
              "        [ 0.1717,  1.5753, -0.4105, -0.1744],\n",
              "        [-0.7997,  0.8637,  0.0171,  0.7639],\n",
              "        [-0.9938, -0.4499,  0.2380, -0.4309],\n",
              "        [-2.3605, -0.9928, -0.6202, -0.3979],\n",
              "        [ 1.9618, -0.3290,  0.1579, -0.0924],\n",
              "        [-1.2746, -0.2799, -1.1905, -0.6789],\n",
              "        [ 0.5169,  1.5795,  0.6420, -0.1441],\n",
              "        [ 0.0975,  0.5001,  0.2198, -1.3076],\n",
              "        [ 1.8263,  0.1076, -1.7766,  1.5101],\n",
              "        [ 0.4078, -1.5954,  0.6538, -0.5998],\n",
              "        [-0.1638,  0.1905,  0.6739, -0.2186],\n",
              "        [-0.5561, -0.9330, -0.6536, -0.1535],\n",
              "        [ 0.8999,  0.3330, -0.3291,  0.4326],\n",
              "        [ 1.8309,  0.2150,  0.5251,  0.1590],\n",
              "        [-0.2867,  0.1040, -0.3546, -0.2705],\n",
              "        [-1.5709, -1.1531,  0.4989, -0.2803],\n",
              "        [-0.5711, -1.5499, -0.0962,  0.3944],\n",
              "        [-0.2779,  1.1731, -1.1076,  0.9778],\n",
              "        [ 0.8222, -0.5707, -0.9443,  0.1305],\n",
              "        [-2.2337, -0.1141, -2.4165,  0.5839],\n",
              "        [ 0.2084,  0.0295,  0.6474,  0.0252],\n",
              "        [-0.2025,  1.2839, -0.3136,  0.3776],\n",
              "        [ 0.4028,  0.5259,  2.4508, -0.1037],\n",
              "        [ 0.0623,  0.0528, -1.3130,  0.0405],\n",
              "        [ 1.3112,  0.7969, -0.3309,  0.9812]], requires_grad=True)"
            ]
          },
          "metadata": {},
          "execution_count": 12
        }
      ]
    },
    {
      "cell_type": "code",
      "source": [
        "# Function to visualize the embedding in 2d space\n",
        "\n",
        "def plot_emb(emb, itos, ax=None):\n",
        "    if ax is None:\n",
        "        fig, ax = plt.subplots()\n",
        "    for i in range(len(itos)):\n",
        "        x, y = emb.weight[i].detach().cpu().numpy()[:2]\n",
        "        ax.scatter(x, y, color='k')\n",
        "        ax.text(x + 0.05, y + 0.05, itos[i])\n",
        "    return ax\n",
        "\n",
        "plot_emb(emb, itos)"
      ],
      "metadata": {
        "colab": {
          "base_uri": "https://localhost:8080/",
          "height": 447
        },
        "id": "xyt3vrnBNCSE",
        "outputId": "216edfab-5e69-43a0-b83b-712e2170fa49"
      },
      "execution_count": null,
      "outputs": [
        {
          "output_type": "execute_result",
          "data": {
            "text/plain": [
              "<Axes: >"
            ]
          },
          "metadata": {},
          "execution_count": 13
        },
        {
          "output_type": "display_data",
          "data": {
            "text/plain": [
              "<Figure size 640x480 with 1 Axes>"
            ],
            "image/png": "[encoded data removed]"
          },
          "metadata": {
            "image/png": {
              "width": 559,
              "height": 413
            }
          }
        }
      ]
    },
    {
      "cell_type": "code",
      "source": [
        "class NextChar(nn.Module):\n",
        "  def __init__(self, block_size, vocab_size, emb_dim, hidden_size):\n",
        "    super().__init__()\n",
        "    self.emb = nn.Embedding(vocab_size, emb_dim)\n",
        "    self.lin1 = nn.Linear(block_size * emb_dim, hidden_size)\n",
        "    self.lin2 = nn.Linear(hidden_size, vocab_size)\n",
        "\n",
        "  def forward(self, x):\n",
        "    x = self.emb(x)\n",
        "    x = x.view(x.shape[0], -1)\n",
        "    x = torch.sin(self.lin1(x))\n",
        "    x = self.lin2(x)\n",
        "    return x\n"
      ],
      "metadata": {
        "id": "etBgx32XNHx4"
      },
      "execution_count": null,
      "outputs": []
    },
    {
      "cell_type": "code",
      "source": [
        "# Generate names from untrained model\n",
        "\n",
        "\n",
        "model = NextChar(block_size, len(stoi), emb_dim, 10).to(device)\n",
        "model = torch.compile(model)\n",
        "\n",
        "g = torch.Generator()\n",
        "g.manual_seed(4000002)\n",
        "def generate_name(model, itos, stoi, block_size, max_len=10):\n",
        "    context = [0] * block_size\n",
        "    name = ''\n",
        "    for i in range(max_len):\n",
        "        x = torch.tensor(context).view(1, -1).to(device)\n",
        "        y_pred = model(x)\n",
        "        ix = torch.distributions.categorical.Categorical(logits=y_pred).sample().item()\n",
        "        ch = itos[ix]\n",
        "        if ch == '.':\n",
        "            break\n",
        "        name += ch\n",
        "        context = context[1:] + [ix]\n",
        "    return name\n",
        "\n",
        "for i in range(10):\n",
        "    print(generate_name(model, itos, stoi, block_size))"
      ],
      "metadata": {
        "colab": {
          "base_uri": "https://localhost:8080/"
        },
        "id": "cyQfbQtmN7ID",
        "outputId": "ad7e1cc1-d134-487c-c563-aa06ec935aae"
      },
      "execution_count": null,
      "outputs": [
        {
          "output_type": "stream",
          "name": "stderr",
          "text": [
            "No CUDA runtime is found, using CUDA_HOME='/usr/local/cuda'\n"
          ]
        },
        {
          "output_type": "stream",
          "name": "stdout",
          "text": [
            "mhpeclsiin\n",
            "fxucwqszxl\n",
            "ligbripqwn\n",
            "igooixxrud\n",
            "ruxedmczwk\n",
            "piuhbphnuy\n",
            "opcwjrvqoq\n",
            "fvlioxjmyj\n",
            "osvjcgdhey\n",
            "apandgxxgk\n"
          ]
        }
      ]
    },
    {
      "cell_type": "markdown",
      "source": [
        "# Using RNN Based method"
      ],
      "metadata": {
        "id": "GUhejZ2_WCMo"
      }
    },
    {
      "cell_type": "code",
      "source": [
        "# Train the model\n",
        "\n",
        "loss_fn = nn.CrossEntropyLoss()\n",
        "opt = torch.optim.AdamW(model.parameters(), lr=0.01)\n",
        "import time\n",
        "# Mini-batch training\n",
        "batch_size = 4096\n",
        "print_every = 100\n",
        "elapsed_time = []\n",
        "for epoch in range(10000):\n",
        "    start_time = time.time()\n",
        "    for i in range(0, X.shape[0], batch_size):\n",
        "        x = X[i:i+batch_size]\n",
        "        y = Y[i:i+batch_size]\n",
        "        y_pred = model(x)\n",
        "        loss = loss_fn(y_pred, y)\n",
        "        loss.backward()\n",
        "        opt.step()\n",
        "        opt.zero_grad()\n",
        "    end_time = time.time()\n",
        "    elapsed_time.append(end_time - start_time)\n",
        "    if epoch % print_every == 0:\n",
        "        print(epoch, loss.item())"
      ],
      "metadata": {
        "colab": {
          "base_uri": "https://localhost:8080/"
        },
        "id": "1Om9aVqcU2c1",
        "outputId": "cbc6df09-77a7-4b05-dfdf-ab657de3a075"
      },
      "execution_count": null,
      "outputs": [
        {
          "output_type": "stream",
          "name": "stdout",
          "text": [
            "0 2.913294553756714\n",
            "100 2.184605360031128\n",
            "200 2.167757511138916\n",
            "300 2.1602606773376465\n",
            "400 2.1566050052642822\n",
            "500 2.154313325881958\n",
            "600 2.1524815559387207\n",
            "700 2.151942729949951\n",
            "800 2.152280807495117\n",
            "900 2.1523191928863525\n",
            "1000 2.1523776054382324\n",
            "1100 2.152209758758545\n",
            "1200 2.1521425247192383\n",
            "1300 2.1519908905029297\n",
            "1400 2.151787042617798\n",
            "1500 2.1519954204559326\n",
            "1600 2.1522161960601807\n",
            "1700 2.1519157886505127\n",
            "1800 2.1516222953796387\n",
            "1900 2.151449203491211\n",
            "2000 2.151196002960205\n",
            "2100 2.1507272720336914\n",
            "2200 2.1503989696502686\n",
            "2300 2.149923801422119\n",
            "2400 2.1495912075042725\n",
            "2500 2.149340867996216\n",
            "2600 2.1490633487701416\n",
            "2700 2.1483986377716064\n",
            "2800 2.14768123626709\n",
            "2900 2.1472883224487305\n",
            "3000 2.147095203399658\n",
            "3100 2.1469943523406982\n",
            "3200 2.1469480991363525\n",
            "3300 2.146942138671875\n",
            "3400 2.1469497680664062\n",
            "3500 2.14695143699646\n",
            "3600 2.1469454765319824\n",
            "3700 2.146937608718872\n",
            "3800 2.1469316482543945\n",
            "3900 2.146928548812866\n",
            "4000 2.1469266414642334\n",
            "4100 2.1469247341156006\n",
            "4200 2.1469221115112305\n",
            "4300 2.1469192504882812\n",
            "4400 2.146916389465332\n",
            "4500 2.146913528442383\n",
            "4600 2.146911382675171\n",
            "4700 2.14690899848938\n",
            "4800 2.146906614303589\n",
            "4900 2.1469039916992188\n",
            "5000 2.1469016075134277\n",
            "5100 2.1468992233276367\n",
            "5200 2.1468968391418457\n",
            "5300 2.146894693374634\n",
            "5400 2.1468920707702637\n",
            "5500 2.1468894481658936\n",
            "5600 2.1468875408172607\n",
            "5700 2.1468849182128906\n",
            "5800 2.1468827724456787\n",
            "5900 2.1468803882598877\n",
            "6000 2.1468780040740967\n",
            "6100 2.146876096725464\n",
            "6200 2.146873950958252\n",
            "6300 2.146871566772461\n",
            "6400 2.146869421005249\n",
            "6500 2.146867513656616\n",
            "6600 2.1468656063079834\n",
            "6700 2.1468632221221924\n",
            "6800 2.1468615531921387\n",
            "6900 2.146859645843506\n",
            "7000 2.146857500076294\n",
            "7100 2.146855592727661\n",
            "7200 2.1468539237976074\n",
            "7300 2.1468522548675537\n",
            "7400 2.146850824356079\n",
            "7500 2.1468489170074463\n",
            "7600 2.1468474864959717\n",
            "7700 2.146845579147339\n",
            "7800 2.1468441486358643\n",
            "7900 2.1468427181243896\n",
            "8000 2.146841287612915\n",
            "8100 2.1468398571014404\n",
            "8200 2.146838665008545\n",
            "8300 2.1468372344970703\n",
            "8400 2.146836280822754\n",
            "8500 2.1468350887298584\n",
            "8600 2.146834135055542\n",
            "8700 2.1468331813812256\n",
            "8800 2.14683198928833\n",
            "8900 2.1468310356140137\n",
            "9000 2.1468300819396973\n",
            "9100 2.1468288898468018\n",
            "9200 2.1468286514282227\n",
            "9300 2.1468279361724854\n",
            "9400 2.146826982498169\n",
            "9500 2.1468262672424316\n",
            "9600 2.1468257904052734\n",
            "9700 2.1468253135681152\n",
            "9800 2.146824598312378\n",
            "9900 2.1468241214752197\n"
          ]
        }
      ]
    },
    {
      "cell_type": "code",
      "source": [
        "# Visualize the embedding\n",
        "\n",
        "plot_emb(model.emb, itos)"
      ],
      "metadata": {
        "colab": {
          "base_uri": "https://localhost:8080/",
          "height": 449
        },
        "id": "HBV0WJ44WISF",
        "outputId": "a8091ec3-3d46-4e9f-d801-e4f34a2c0b31"
      },
      "execution_count": null,
      "outputs": [
        {
          "output_type": "execute_result",
          "data": {
            "text/plain": [
              "<Axes: >"
            ]
          },
          "metadata": {},
          "execution_count": 20
        },
        {
          "output_type": "display_data",
          "data": {
            "text/plain": [
              "<Figure size 640x480 with 1 Axes>"
            ],
            "image/png": "[encoded data removed]"
          },
          "metadata": {
            "image/png": {
              "width": 568,
              "height": 415
            }
          }
        }
      ]
    },
    {
      "cell_type": "code",
      "source": [
        "# Generate names from trained model\n",
        "\n",
        "for i in range(10):\n",
        "    print(generate_name(model, itos, stoi, block_size))"
      ],
      "metadata": {
        "colab": {
          "base_uri": "https://localhost:8080/"
        },
        "id": "JGR_q43WXstd",
        "outputId": "78505805-280e-4ee5-ed26-64f695e345a5"
      },
      "execution_count": null,
      "outputs": [
        {
          "output_type": "stream",
          "name": "stdout",
          "text": [
            "susvifar\n",
            "perbi\n",
            "balmil\n",
            "janda\n",
            "titsuparam\n",
            "sanu\n",
            "karnatu\n",
            "ipra\n",
            "shral\n",
            "ratru\n"
          ]
        }
      ]
    },
    {
      "cell_type": "markdown",
      "source": [
        "# Fetching and Preparing data:"
      ],
      "metadata": {
        "id": "BETvSaOsWGrO"
      }
    },
    {
      "cell_type": "code",
      "source": [
        "!wget https://raw.githubusercontent.com/karpathy/char-rnn/master/data/tinyshakespeare/input.txt"
      ],
      "metadata": {
        "colab": {
          "base_uri": "https://localhost:8080/"
        },
        "id": "8Gd0zF82XvpU",
        "outputId": "66fb1f35-6ecd-4a1a-bbb0-82475d07e885"
      },
      "execution_count": null,
      "outputs": [
        {
          "output_type": "stream",
          "name": "stdout",
          "text": [
            "--2024-03-21 07:56:07--  https://raw.githubusercontent.com/karpathy/char-rnn/master/data/tinyshakespeare/input.txt\n",
            "Resolving raw.githubusercontent.com (raw.githubusercontent.com)... 185.199.108.133, 185.199.109.133, 185.199.110.133, ...\n",
            "Connecting to raw.githubusercontent.com (raw.githubusercontent.com)|185.199.108.133|:443... connected.\n",
            "HTTP request sent, awaiting response... 200 OK\n",
            "Length: 1115394 (1.1M) [text/plain]\n",
            "Saving to: ‘input.txt.1’\n",
            "\n",
            "\rinput.txt.1           0%[                    ]       0  --.-KB/s               \rinput.txt.1         100%[===================>]   1.06M  --.-KB/s    in 0.05s   \n",
            "\n",
            "2024-03-21 07:56:07 (22.1 MB/s) - ‘input.txt.1’ saved [1115394/1115394]\n",
            "\n"
          ]
        }
      ]
    },
    {
      "cell_type": "code",
      "source": [
        "with open('input.txt', 'r', encoding='utf-8') as f:\n",
        "    text = f.read()"
      ],
      "metadata": {
        "id": "1zScw72zWKrk"
      },
      "execution_count": null,
      "outputs": []
    },
    {
      "cell_type": "code",
      "source": [
        "print(\"Total number of characters in dataset are: \", len(text))"
      ],
      "metadata": {
        "colab": {
          "base_uri": "https://localhost:8080/"
        },
        "id": "oNfXuNCJyMwx",
        "outputId": "972c12ce-54da-4b46-8cb8-4ba43db1b56a"
      },
      "execution_count": null,
      "outputs": [
        {
          "output_type": "stream",
          "name": "stdout",
          "text": [
            "Total number of characters in dataset are:  1115394\n"
          ]
        }
      ]
    },
    {
      "cell_type": "code",
      "source": [
        "chars = sorted(list(set(text)))\n",
        "vocab_size = len(chars)\n",
        "\n",
        "print(\"Unique characters in passage: \", ''.join(chars))\n",
        "print(\"\\nTotal number of unique characters:\", vocab_size)"
      ],
      "metadata": {
        "colab": {
          "base_uri": "https://localhost:8080/"
        },
        "id": "jVjMmhDaysjb",
        "outputId": "de31a77d-de9b-47ee-e119-dcf715ffa377"
      },
      "execution_count": null,
      "outputs": [
        {
          "output_type": "stream",
          "name": "stdout",
          "text": [
            "Unique characters in passage:  \n",
            " !$&',-.3:;?ABCDEFGHIJKLMNOPQRSTUVWXYZabcdefghijklmnopqrstuvwxyz\n",
            "\n",
            "Total number of unique characters: 65\n"
          ]
        }
      ]
    },
    {
      "cell_type": "code",
      "source": [
        "stoi = { ch:i for i,ch in enumerate(chars) }\n",
        "itos = { i:ch for i,ch in enumerate(chars) }\n",
        "\n",
        "encode = lambda s: [stoi[c] for c in s] # encoder: take a string, output a list of integers\n",
        "decode = lambda l: ''.join([itos[i] for i in l]) # decoder: take a list of integers, output a string\n",
        "\n",
        "print(\"hii there: \", encode(\"hii there\"))\n",
        "\n",
        "print(f\"\\n{encode('hii there')}:\", decode(encode(\"hii there\")))"
      ],
      "metadata": {
        "colab": {
          "base_uri": "https://localhost:8080/"
        },
        "id": "NqGZ-5ltBOVG",
        "outputId": "76da29a3-2276-48b6-a3ab-15b31b38bb25"
      },
      "execution_count": null,
      "outputs": [
        {
          "output_type": "stream",
          "name": "stdout",
          "text": [
            "hii there:  [46, 47, 47, 1, 58, 46, 43, 56, 43]\n",
            "\n",
            "[46, 47, 47, 1, 58, 46, 43, 56, 43]: hii there\n"
          ]
        }
      ]
    },
    {
      "cell_type": "code",
      "source": [
        "data = torch.tensor(encode(text), dtype=torch.long)\n",
        "print(data.shape, data.dtype, \"\\n\")\n",
        "print(data[:100])"
      ],
      "metadata": {
        "colab": {
          "base_uri": "https://localhost:8080/"
        },
        "id": "nqKJX9wgBtsG",
        "outputId": "3c8775f6-9f96-4ba2-ca65-5e4b48350a4b"
      },
      "execution_count": null,
      "outputs": [
        {
          "output_type": "stream",
          "name": "stdout",
          "text": [
            "torch.Size([1115394]) torch.int64 \n",
            "\n",
            "tensor([18, 47, 56, 57, 58,  1, 15, 47, 58, 47, 64, 43, 52, 10,  0, 14, 43, 44,\n",
            "        53, 56, 43,  1, 61, 43,  1, 54, 56, 53, 41, 43, 43, 42,  1, 39, 52, 63,\n",
            "         1, 44, 59, 56, 58, 46, 43, 56,  6,  1, 46, 43, 39, 56,  1, 51, 43,  1,\n",
            "        57, 54, 43, 39, 49,  8,  0,  0, 13, 50, 50, 10,  0, 31, 54, 43, 39, 49,\n",
            "         6,  1, 57, 54, 43, 39, 49,  8,  0,  0, 18, 47, 56, 57, 58,  1, 15, 47,\n",
            "        58, 47, 64, 43, 52, 10,  0, 37, 53, 59])\n"
          ]
        }
      ]
    },
    {
      "cell_type": "code",
      "source": [
        "n = int(0.8*len(data))\n",
        "train_data = data[:n]\n",
        "val_data = data[n:]"
      ],
      "metadata": {
        "id": "0yfx0LsuCcMf"
      },
      "execution_count": null,
      "outputs": []
    },
    {
      "cell_type": "code",
      "source": [
        "print(\"Length of training data:\", len(train_data))\n",
        "train_data, val_data"
      ],
      "metadata": {
        "colab": {
          "base_uri": "https://localhost:8080/"
        },
        "id": "KRrbjQUiC1sL",
        "outputId": "92a016e9-c642-4218-bde2-2cda3486c5da"
      },
      "execution_count": null,
      "outputs": [
        {
          "output_type": "stream",
          "name": "stdout",
          "text": [
            "Length of training data: 892315\n"
          ]
        },
        {
          "output_type": "execute_result",
          "data": {
            "text/plain": [
              "(tensor([18, 47, 56,  ..., 39, 58,  1]),\n",
              " tensor([63, 53, 59,  ..., 45,  8,  0]))"
            ]
          },
          "metadata": {},
          "execution_count": 103
        }
      ]
    },
    {
      "cell_type": "markdown",
      "source": [
        "#### for explaination only...."
      ],
      "metadata": {
        "id": "k2aJMkGoEoSu"
      }
    },
    {
      "cell_type": "code",
      "source": [
        "block_size = 4\n",
        "x = train_data[:block_size]\n",
        "y = train_data[1:block_size+1]\n",
        "for t in range(block_size):\n",
        "    context = x[:t+1]\n",
        "    target = y[t]\n",
        "    print(f\"Input: {context}; Output: {target}\")"
      ],
      "metadata": {
        "colab": {
          "base_uri": "https://localhost:8080/"
        },
        "id": "iCMJa6w0C4eB",
        "outputId": "7a84bed1-f0d5-4cdd-c468-fdce69a52e50"
      },
      "execution_count": null,
      "outputs": [
        {
          "output_type": "stream",
          "name": "stdout",
          "text": [
            "Input: tensor([18]); Output: 47\n",
            "Input: tensor([18, 47]); Output: 56\n",
            "Input: tensor([18, 47, 56]); Output: 57\n",
            "Input: tensor([18, 47, 56, 57]); Output: 58\n"
          ]
        }
      ]
    },
    {
      "cell_type": "code",
      "source": [
        "torch.manual_seed(1294)\n",
        "import pprint\n",
        "batch_size = 4 # independent sequences processed in parallel\n",
        "block_size = 10 # maximum context length for predictions\n",
        "\n",
        "def get_batch(split):\n",
        "    if split == 'train':\n",
        "      data = train_data\n",
        "    else:\n",
        "      data = val_data\n",
        "    #print(len(data))\n",
        "    ix = torch.randint(len(data) - block_size, (batch_size,))\n",
        "    x = torch.stack([data[i:i+block_size] for i in ix])\n",
        "    y = torch.stack([data[i+1:i+block_size+1] for i in ix])\n",
        "    return x, y\n",
        "\n",
        "input, target = get_batch('train')\n",
        "print('Input:')\n",
        "print(input.shape)\n",
        "print(input)\n",
        "\n",
        "print('\\nOutput:')\n",
        "print(target.shape)\n",
        "print(target)"
      ],
      "metadata": {
        "colab": {
          "base_uri": "https://localhost:8080/"
        },
        "id": "CgbtCzdhEVth",
        "outputId": "8a26a454-9599-48ff-d87f-00c911515090"
      },
      "execution_count": null,
      "outputs": [
        {
          "output_type": "stream",
          "name": "stdout",
          "text": [
            "Input:\n",
            "torch.Size([4, 10])\n",
            "tensor([[ 1, 40, 50, 53, 58, 12,  0,  0, 13, 40],\n",
            "        [60, 43,  1, 53, 52, 43,  0, 27, 44,  1],\n",
            "        [56, 39, 52, 58,  6,  1, 44, 53, 56,  1],\n",
            "        [43, 43,  6,  1, 53, 50, 42,  1, 15, 39]])\n",
            "\n",
            "Output:\n",
            "torch.Size([4, 10])\n",
            "tensor([[40, 50, 53, 58, 12,  0,  0, 13, 40, 40],\n",
            "        [43,  1, 53, 52, 43,  0, 27, 44,  1, 57],\n",
            "        [39, 52, 58,  6,  1, 44, 53, 56,  1, 58],\n",
            "        [43,  6,  1, 53, 50, 42,  1, 15, 39, 54]])\n"
          ]
        }
      ]
    },
    {
      "cell_type": "code",
      "source": [
        "len(input)"
      ],
      "metadata": {
        "colab": {
          "base_uri": "https://localhost:8080/"
        },
        "id": "m_RbzNpQIpv0",
        "outputId": "00ff96ed-7df4-4ba9-e70f-5e721e9c8a23"
      },
      "execution_count": null,
      "outputs": [
        {
          "output_type": "execute_result",
          "data": {
            "text/plain": [
              "4"
            ]
          },
          "metadata": {},
          "execution_count": 116
        }
      ]
    },
    {
      "cell_type": "code",
      "source": [
        "for b in range(batch_size): # batch dimension\n",
        "    print(\"\")\n",
        "    for t in range(block_size): # time dimension\n",
        "        context = input[b, :t+1]\n",
        "        target_ = target[b,t]\n",
        "        print(f\"when input is {context.tolist()} the target: {target_}\")"
      ],
      "metadata": {
        "colab": {
          "base_uri": "https://localhost:8080/"
        },
        "id": "fqlNd4osFvay",
        "outputId": "cf6af969-d24a-435d-e18d-ebf5b35157c1"
      },
      "execution_count": null,
      "outputs": [
        {
          "output_type": "stream",
          "name": "stdout",
          "text": [
            "\n",
            "when input is [1] the target: 40\n",
            "when input is [1, 40] the target: 50\n",
            "when input is [1, 40, 50] the target: 53\n",
            "when input is [1, 40, 50, 53] the target: 58\n",
            "when input is [1, 40, 50, 53, 58] the target: 12\n",
            "when input is [1, 40, 50, 53, 58, 12] the target: 0\n",
            "when input is [1, 40, 50, 53, 58, 12, 0] the target: 0\n",
            "when input is [1, 40, 50, 53, 58, 12, 0, 0] the target: 13\n",
            "when input is [1, 40, 50, 53, 58, 12, 0, 0, 13] the target: 40\n",
            "when input is [1, 40, 50, 53, 58, 12, 0, 0, 13, 40] the target: 40\n",
            "\n",
            "when input is [60] the target: 43\n",
            "when input is [60, 43] the target: 1\n",
            "when input is [60, 43, 1] the target: 53\n",
            "when input is [60, 43, 1, 53] the target: 52\n",
            "when input is [60, 43, 1, 53, 52] the target: 43\n",
            "when input is [60, 43, 1, 53, 52, 43] the target: 0\n",
            "when input is [60, 43, 1, 53, 52, 43, 0] the target: 27\n",
            "when input is [60, 43, 1, 53, 52, 43, 0, 27] the target: 44\n",
            "when input is [60, 43, 1, 53, 52, 43, 0, 27, 44] the target: 1\n",
            "when input is [60, 43, 1, 53, 52, 43, 0, 27, 44, 1] the target: 57\n",
            "\n",
            "when input is [56] the target: 39\n",
            "when input is [56, 39] the target: 52\n",
            "when input is [56, 39, 52] the target: 58\n",
            "when input is [56, 39, 52, 58] the target: 6\n",
            "when input is [56, 39, 52, 58, 6] the target: 1\n",
            "when input is [56, 39, 52, 58, 6, 1] the target: 44\n",
            "when input is [56, 39, 52, 58, 6, 1, 44] the target: 53\n",
            "when input is [56, 39, 52, 58, 6, 1, 44, 53] the target: 56\n",
            "when input is [56, 39, 52, 58, 6, 1, 44, 53, 56] the target: 1\n",
            "when input is [56, 39, 52, 58, 6, 1, 44, 53, 56, 1] the target: 58\n",
            "\n",
            "when input is [43] the target: 43\n",
            "when input is [43, 43] the target: 6\n",
            "when input is [43, 43, 6] the target: 1\n",
            "when input is [43, 43, 6, 1] the target: 53\n",
            "when input is [43, 43, 6, 1, 53] the target: 50\n",
            "when input is [43, 43, 6, 1, 53, 50] the target: 42\n",
            "when input is [43, 43, 6, 1, 53, 50, 42] the target: 1\n",
            "when input is [43, 43, 6, 1, 53, 50, 42, 1] the target: 15\n",
            "when input is [43, 43, 6, 1, 53, 50, 42, 1, 15] the target: 39\n",
            "when input is [43, 43, 6, 1, 53, 50, 42, 1, 15, 39] the target: 54\n"
          ]
        }
      ]
    },
    {
      "cell_type": "markdown",
      "source": [
        "# Simple Bigram Model using Neural Network"
      ],
      "metadata": {
        "id": "iWhaqdsYp0q-"
      }
    },
    {
      "cell_type": "code",
      "source": [
        "class NeuralNetworkModel(nn.Module):\n",
        "\n",
        "    def __init__(self, vocab_size):\n",
        "        super().__init__()\n",
        "        # each token directly reads off the logits for the next token from a lookup table\n",
        "        self.token_embedding_table = nn.Embedding(vocab_size, vocab_size)\n",
        "\n",
        "    def forward(self, idx, targets=None):\n",
        "\n",
        "        # idx and targets are both (B,T) tensor of integers\n",
        "        logits = self.token_embedding_table(idx) # (B,T,C)\n",
        "\n",
        "        if targets is None:\n",
        "            loss = None\n",
        "        else:\n",
        "            B, T, C = logits.shape\n",
        "            logits = logits.view(B*T, C)\n",
        "            targets = targets.view(B*T)\n",
        "            loss = F.cross_entropy(logits, targets)\n",
        "\n",
        "        return logits, loss\n",
        "\n",
        "    def generate(self, idx, max_new_tokens):\n",
        "        # idx is (B, T) array of indices in the current context\n",
        "        for _ in range(max_new_tokens):\n",
        "            # get the predictions\n",
        "            logits, loss = self(idx)\n",
        "            # focus only on the last time step\n",
        "            logits = logits[:, -1, :] # becomes (B, C)\n",
        "            # apply softmax to get probabilities\n",
        "            probs = F.softmax(logits, dim=-1) # (B, C)\n",
        "            # sample from the distribution\n",
        "            idx_next = torch.multinomial(probs, num_samples=1) # (B, 1)\n",
        "            # append sampled index to the running sequence\n",
        "            idx = torch.cat((idx, idx_next), dim=1) # (B, T+1)\n",
        "        return idx\n",
        "\n",
        "m = NeuralNetworkModel(vocab_size)\n",
        "logits, loss = m(input, target)\n",
        "print(logits.shape)\n",
        "#print(loss)\n",
        "\n",
        "print(decode(m.generate(idx = torch.zeros((1, 1), dtype=torch.long), max_new_tokens=100)[0].tolist()))"
      ],
      "metadata": {
        "colab": {
          "base_uri": "https://localhost:8080/"
        },
        "id": "PfwEu2Q9S5L5",
        "outputId": "eb236ae2-07f9-4f2b-c121-125b3f690c1a"
      },
      "execution_count": null,
      "outputs": [
        {
          "output_type": "stream",
          "name": "stdout",
          "text": [
            "torch.Size([40, 65])\n",
            "\n",
            "KDhRL..lafzHYz\n",
            "l:U fpVFEbBoCAsGuMOOJJkwo\n",
            "TB,ydpFLriKSPwwihh-P,JEiffpIJQlt.SSlwvmWEkvUuIIOfgzEbPtG;uh\n"
          ]
        }
      ]
    },
    {
      "cell_type": "code",
      "source": [
        "optimizer = torch.optim.AdamW(m.parameters(), lr=1e-3)\n",
        "batch_size = 32\n",
        "for steps in range(100): # increase number of steps for good results...\n",
        "\n",
        "    # sample a batch of data\n",
        "    xb, yb = get_batch('train')\n",
        "\n",
        "    # evaluate the loss\n",
        "    logits, loss = m(xb, yb)\n",
        "    print(loss.item())\n",
        "    optimizer.zero_grad(set_to_none=True)\n",
        "    loss.backward()\n",
        "    optimizer.step()"
      ],
      "metadata": {
        "colab": {
          "base_uri": "https://localhost:8080/"
        },
        "id": "0RHnPP8HTFKD",
        "outputId": "e5d9ba83-7248-409a-8ef9-fafc238b17a4"
      },
      "execution_count": null,
      "outputs": [
        {
          "output_type": "stream",
          "name": "stdout",
          "text": [
            "4.694812774658203\n",
            "4.725152015686035\n",
            "4.735060214996338\n",
            "4.723618507385254\n",
            "4.737090587615967\n",
            "4.750146865844727\n",
            "4.725000381469727\n",
            "4.70699405670166\n",
            "4.678304672241211\n",
            "4.718472480773926\n",
            "4.696362495422363\n",
            "4.666830062866211\n",
            "4.628401756286621\n",
            "4.666481971740723\n",
            "4.659774303436279\n",
            "4.619102478027344\n",
            "4.67460298538208\n",
            "4.698578834533691\n",
            "4.670655250549316\n",
            "4.679381847381592\n",
            "4.61317253112793\n",
            "4.733055114746094\n",
            "4.6373291015625\n",
            "4.661691188812256\n",
            "4.711420059204102\n",
            "4.703858375549316\n",
            "4.714614391326904\n",
            "4.633647918701172\n",
            "4.65870475769043\n",
            "4.686230659484863\n",
            "4.68086576461792\n",
            "4.694855690002441\n",
            "4.649325847625732\n",
            "4.748202323913574\n",
            "4.746114730834961\n",
            "4.560848236083984\n",
            "4.664766311645508\n",
            "4.544810771942139\n",
            "4.726621150970459\n",
            "4.588901042938232\n",
            "4.668590068817139\n",
            "4.700176239013672\n",
            "4.722327709197998\n",
            "4.641680717468262\n",
            "4.700586795806885\n",
            "4.691437721252441\n",
            "4.7698211669921875\n",
            "4.7672319412231445\n",
            "4.649369239807129\n",
            "4.583395957946777\n",
            "4.664675712585449\n",
            "4.667143821716309\n",
            "4.638619899749756\n",
            "4.585790157318115\n",
            "4.628730297088623\n",
            "4.636585235595703\n",
            "4.721391201019287\n",
            "4.66150426864624\n",
            "4.684631824493408\n",
            "4.551638603210449\n",
            "4.660948753356934\n",
            "4.5898237228393555\n",
            "4.616810321807861\n",
            "4.6567206382751465\n",
            "4.633430480957031\n",
            "4.69756555557251\n",
            "4.674253463745117\n",
            "4.6485595703125\n",
            "4.510682582855225\n",
            "4.585464954376221\n",
            "4.56485652923584\n",
            "4.704283237457275\n",
            "4.585228443145752\n",
            "4.593177318572998\n",
            "4.618707180023193\n",
            "4.677246570587158\n",
            "4.677159309387207\n",
            "4.5540666580200195\n",
            "4.652047157287598\n",
            "4.544947624206543\n",
            "4.583597183227539\n",
            "4.6728668212890625\n",
            "4.53914213180542\n",
            "4.605110168457031\n",
            "4.558056354522705\n",
            "4.668103218078613\n",
            "4.564858436584473\n",
            "4.564484596252441\n",
            "4.589380741119385\n",
            "4.613045692443848\n",
            "4.672555446624756\n",
            "4.687208652496338\n",
            "4.513664245605469\n",
            "4.618805885314941\n",
            "4.629460334777832\n",
            "4.537836074829102\n",
            "4.592865943908691\n",
            "4.569813251495361\n",
            "4.546704292297363\n",
            "4.574153900146484\n"
          ]
        }
      ]
    },
    {
      "cell_type": "code",
      "source": [
        "print(decode(m.generate(idx = torch.zeros((1, 1), dtype=torch.long), max_new_tokens=500)[0].tolist()))"
      ],
      "metadata": {
        "colab": {
          "base_uri": "https://localhost:8080/"
        },
        "id": "Da5gISPPlZT8",
        "outputId": "45ba5414-0315-4613-ccd2-e7f4356204ac"
      },
      "execution_count": null,
      "outputs": [
        {
          "output_type": "stream",
          "name": "stdout",
          "text": [
            "\n",
            "'YsKKnIWNIOyOsNLutw.QaiKPpj;LDd;;uzuEzt,XgLoAfqQSd!pLXFE$wv?PwT.A$I,I,A$$&KVmC3LNnCsNCanE?WT?S\n",
            "K?wJk?;Et H UbSrAOs&JSrMJ$uiiRqxe:\n",
            "K:hHn,WTWQe nsIb'CtVP&www'KRmG r&E.NqQq;h3UEkGlG$&.seXh3II fCd\n",
            "'WSUcPRqCWL.YSsZFirA .SdinxM3JFvzYK,S?Z\n",
            "hrbJiO; riihHFAsicOOCRfT3Lx$wozkcfhteyqm;ijZwZD dTos:SPLezjZmpCHn!cihJF'WbB\n",
            "TNqMquUKtWhg.SD,WuUL.oysldpqx.;\n",
            "YzaZRbx;tfpn yY nJnvt.LaD.&zn$jZBd;VwYqj;bf&K3G 'o,H'W&zgaVS&:D-k?oYdA3BuIuEku-yu-&!kUdk'CDa&.DHLxlH!OPJGvcQWKj$XsiDhrfH-Iqih;lG$nBxnrDO-JX-x-QaH\n",
            "H3cToh$&bylwJ\n"
          ]
        }
      ]
    },
    {
      "cell_type": "code",
      "source": [],
      "metadata": {
        "colab": {
          "base_uri": "https://localhost:8080/"
        },
        "id": "yxYdTfudqoFv",
        "outputId": "0e14ff9a-069c-49a8-a7bf-efa4468a1334"
      },
      "execution_count": null,
      "outputs": [
        {
          "output_type": "stream",
          "name": "stdout",
          "text": [
            "That, poor contempt, or claim'd thou slept so faithful,\n",
            "I may contrive our father; and, in their def\n"
          ]
        }
      ]
    },
    {
      "cell_type": "code",
      "source": [
        "import nltk\n",
        "nltk.download('punkt')\n",
        "sentences = nltk.sent_tokenize(text_content)\n",
        "sentences[:100]"
      ],
      "metadata": {
        "colab": {
          "base_uri": "https://localhost:8080/"
        },
        "id": "fpZJpbhAlfKT",
        "outputId": "d0151400-de1c-411b-eb89-6fbbe0aeaa6d"
      },
      "execution_count": null,
      "outputs": [
        {
          "output_type": "stream",
          "name": "stderr",
          "text": [
            "[nltk_data] Downloading package punkt to /root/nltk_data...\n",
            "[nltk_data]   Package punkt is already up-to-date!\n"
          ]
        },
        {
          "output_type": "execute_result",
          "data": {
            "text/plain": [
              "[\"That, poor contempt, or claim'd thou slept so faithful,\\nI may contrive our father; and, in their defeated queen,\\nHer flesh broke me and puttance of expedition house,\\nAnd in that same that ever I lament this stomach,\\nAnd he, nor Butly and my fury, knowing everything\\nGrew daily ever, his great strength and thought\\nThe bright buds of mine own.\",\n",
              " \"BIONDELLO:\\nMarry, that it may not pray their patience.'\",\n",
              " 'KING LEAR:\\nThe instant common maid, as we may less be\\na brave gentleman and joiner: he that finds us with wax\\nAnd owe so full of presence and our fooder at our\\nstaves.',\n",
              " \"It is remorsed the bridal's man his grace\\nfor every business in my tongue, but I was thinking\\nthat he contends, he hath respected thee.\",\n",
              " \"BIRON:\\nShe left thee on, I'll die to blessed and most reasonable\\nNature in this honour, and her bosom is safe, some\\nothers from his speedy-birth, a bill and as\\nForestem with Richard in your heart\\nBe question'd on, nor that I was enough:\\nWhich of a partier forth the obsers d'punish'd the hate\\nTo my restraints would not then be got as I partly.\",\n",
              " \"AUTOLYCUS:\\nHath sat her love within this man, that was foul prayers\\nWhich are much thus from them with thee; I am not ever thought\\nTo make that with a wise exclaim, as I am sure;\\nTo say well like a dotage on the fixed cease,\\nAnd let mine eyes may straight sole sword conveyard,\\nThat dust-confounded by a land to their command\\nThen puissant with a grief's: it should be so and dead,\\nTill he shall fail his sister; and in true and good,\\nTo see me for the other, hath not heard a midwife\\nLoud from my service and thy sweetly daughter got\\nThe single strange words pent is all his steed:\\nStay from us in, as he hath we brought me into the Milthiness.\",\n",
              " \"GUIDERIUS:\\nWhy, my lord,\\nShall not part well: but it shall have my hands;\\nLet us be taken that, thou weights return,\\nTo mine ring ere I should be dangerous with a good way\\nTo swear it: for the bears now he was kin to him,\\nBut then his own island's sister's all speech would deny\\nAnd force I grant it.\",\n",
              " 'ABHORSON:\\nThou art a very earth.',\n",
              " 'Villain, reserves my keeping.',\n",
              " 'TALBOT:\\n\\nKING HENRY VIII:\\nNow\\nTo have lead for me;--\\n\\nKENT:\\nBut yet ease yourself truly in the numbers,\\nIf he be no talk at my death in the name of hot\\nyears.',\n",
              " 'Then that had not so far good general\\nTo make with buried vacus arrest them.',\n",
              " 'TIMON:\\nStay, and the sere hath dangerous,\\nToo grace: a sail, the breath of knees, broke deeds\\nWould do thy husband and alack to speak,\\nAnd pluck their men at thy abroad doth go.',\n",
              " \"CASSIUS:\\nAnd in desire,\\nAnd call'd me ballant Cassius.\",\n",
              " 'BARDOLPH:\\nTost in it, what then take your madder?',\n",
              " 'DUKE OF YORK:\\nShe would be ready, this advice, say you a chaste.',\n",
              " 'Second Neris:\\nNow, blessed France, and with thy speech can know?',\n",
              " 'ANTIPHOLUS OF EPHESUS:\\nNot I: outlive, lady!',\n",
              " \"Philosophy, gentlemen;\\nUpon our wrongs despised, I will not sit to thee\\nFrom Duke of Gloucester's name:\\nLook thee, and thee but wear my noblemans.\",\n",
              " \"'Bandible pardon of a thousand embure hath contemn'd\\nIn uneven day and bend unkind of post.\",\n",
              " 'AJAX:\\nO Mattle!',\n",
              " \"these strict cuttances cut\\nit down; for I had slept my fellow, to said 'I\\nHave found your lordship hope.\",\n",
              " 'MARK ANTONY:\\nHow!',\n",
              " 'I have done them to you; I would\\nto sose a minute that way is, the ingrateful brook.',\n",
              " 'MARCELLUS:\\nTell us to break it, for I hear not every shore.',\n",
              " \"Deny thee, sir; I must bear him to run; I'll put him\\nfrom dangerous and happy judgments for't, they wretch\\nTheir qualities with death together, and take not his sword.\",\n",
              " 'DEMETRIUS:\\nCome, go thy wreck; for now, Aumerle, do I know but\\nthe valiant world before I fear; and make no cause\\nIn bristing sorry and behold your friend;\\nBut, with my deed, I do not threw you boy.',\n",
              " 'KING IDAR WILLOUGHBY:\\nO, then wouldst thou speak with me.',\n",
              " 'GOWER:\\nPoor queen, leave them along at.',\n",
              " 'CAPULET:\\nNo, good sir,\\nAnd make a pen and meeding down, trouble me\\nHere provide it: your breast of any other use\\nWearing behind the old looks of a man begin:\\nBut, for your city, as the cases of the art\\nI have held to go to you.',\n",
              " \"VALENTINE:\\nSir, in state, then tell me which are never fall'n.\",\n",
              " 'CAESAR:\\n\\nSecond Murderer:\\nMy lord, if virtuous Scotland!',\n",
              " 'is good chamber to\\nthe shepherd.',\n",
              " 'Second Murderer:\\nHe is like to let her go.',\n",
              " \"NORFOLK:\\nWe'll come by thy sweet brother.\",\n",
              " \"HELENA:\\nDid you be more: he, that is entreatable,\\nFrom Rutland's island,' to him, it is not of beauty:\\nIf they your heart's a fixed, sea-good wife,\\nSince one had robb'd himself here in this ready bull\\nFrom which be done to-night: there shall his wife\\nGuards conistering on their faction.\",\n",
              " 'BASSANIO:\\nHe did not come to hope a friar, and is the farewell: then\\nI knew we are bloody:\\nThereof must not undo a wrong of thee, they pluck\\nTheir sighs and down an empty love.',\n",
              " 'Second Gentleman:\\nFor France and Thersitania would kill our solemnity\\nThat know not, I beseech you, but, as I will fear to\\nplease two will I cannot hear, sir.',\n",
              " 'COUNTESS:\\nWhat, my master may be potent; and in this ancient face I\\nowed!',\n",
              " 'here came not what I should love myself so and\\nset, to a brook-gast that thyself will eat an excellent time.',\n",
              " 'MALVOLIO:\\nSay, good Sir John, when I was fair again,--\\n\\nEMILIA:\\nBut here is dead.',\n",
              " \"MALVOLIO:\\nNow she was still e'er 'good, if no bloody difference:\\nAnd be it like to have thee fought: and line my master,\\nThou bear'st an honour there by ten, you do go, sweet God,\\nThis we do not be proud to us; wemper I do not.\",\n",
              " \"GLENDOWER:\\nI'll see thine eyes: my best, though not construct\\nThe saying with a friend, I will have my\\nAbout my heart with thee, Lord Talbot, and so reason\\nI would not bear their swiftness for the world.\",\n",
              " \"KING JOHN:\\nTrue mother, and all and a woman's house,\\nIf my true amen is full of gold, I shall be peerled\\nfrom my husband.\",\n",
              " \"LUCIUS:\\n'Tis the loyal soul but a free demural youth,\\nIt is the chain that slew that vision.\",\n",
              " 'CLEOPATRA:\\nO the fight of hope, madam!',\n",
              " \"FALSTAFF:\\nThen she's but fall of no dullar's fault,\\nLet them ask from the guilty place: Master Ford.\",\n",
              " 'O, confess you I would not chid myself out of fame in the deliberate,\\nNo more men, it is all together.',\n",
              " 'AJAX:\\nI know not what.',\n",
              " \"Host:\\nPer me, 'tis babble.\",\n",
              " \"Here be not as he was bed:\\nUnrunish and had stormed upon me here by that:\\nSo I should so slire their own, or two youth's seems,\\nFor England would rest in Paris!\",\n",
              " \"CASSIO:\\n\\nCELIA:\\n'Tis an effect since you must find you, there is some\\nmaster alike.\",\n",
              " 'GLOUCESTER:\\nOpen them for thy heart, back again.',\n",
              " 'Are you\\nhope to use?',\n",
              " 'Prithee, let him go, Brutus.',\n",
              " 'So much it is;\\ncount was of day, and I must raise a layful peace.',\n",
              " 'CORIOLANUS:\\nLet us would see our ripe.',\n",
              " \"MARK ANTONY:\\nI might have stay'd, and I met your triumphant cousin;\\nAnd in the world,\\nWhose parties, that it were two bodies, to discharge\\nA glumber to a perfect tower.\",\n",
              " 'OCTAVIUS CAESAR:\\nA part to the tame.',\n",
              " \"BALTHASAR:\\nAs I have all the very line, that gave me your highness,\\nWhere you will hear the single spirit of my business,\\nPlant down flives on your son, and even\\nAnd open with their own conusteries; and thinking\\nyour grave ship should ne'er break Humphrey's eyes,\\nI am poor dear party to make his chamber\\nAnd hospish shameless frozen pride.\",\n",
              " \"Here name,\\nAnd light in plot legely in whom I said,\\nGlimmed by an argument of it sweet fears your other mouth,\\nSuch a great estimation would be run as this,\\n'Tis fit for them, 'tis talk before yourselves.\",\n",
              " \"KING HENRY V:\\nAnd I must not see her, but go'st with unhappy woe.\",\n",
              " 'KING JOHN:\\nBy Paris, it was fair.',\n",
              " \"DUCHESS:\\nNay, I'll ever throw his honour.\",\n",
              " 'OTHELLO:\\nGood morrow, amen.',\n",
              " 'CRESSIDA:\\nTo stop the great streets follow your grace which I shall not,\\nAnd scruple him thou art a sit and still so straight.',\n",
              " 'KING lEAR:\\nOne loyal of my love, the wedding-body touchest thee: I pray,\\nHenceforwards, and submiss the truth!',\n",
              " \"though my throne\\nLives as mock'd my pardon with some untold\\nAttore sack lop and shrum' them up:\\nBut be preserved with spirits, so brimfibed again!\",\n",
              " 'My voices were so early, I was enough.',\n",
              " \"MACBETH:\\nThen let him withdraw them debour to branch ere any any\\nday, but to prevail'd be penny of a merry tongue\\nWhich the exploits of fools look with their veins.\",\n",
              " 'KING LEAR:\\nThat bell beseems my wife at all, and I canst thou\\nsee.',\n",
              " 'How!',\n",
              " 'lend me your part.',\n",
              " \"BANQUO:\\nDoth a wonderful maletration with mine torch,\\nThe bloody kingdom rogue as his condemn'd\\nMay dares respect it not?\",\n",
              " \"let you have bound quite straight;\\nWhich is a child should buy, whose noble occasion\\nHath so impudent, or without his life,\\nAre then she will be married with my words,\\nAnd he that keeps some suitors in the cases,\\nAnd in their heart shall break thy bloody load with over\\nAs every man is much between a sign\\nShould show angerous brother o' the Tower; whilst we present\\nBy our continual gates, the justice' enemy.\",\n",
              " 'SICINIUS:\\nO, be no more;\\nThen French all letters indeed be bound from our fair:\\nIf not, she says the fair and left highest branch, a gentleman,\\nSo praised are unvile without their eye by other\\nBut on that ground I know the likey.',\n",
              " 'QUEEN ELIZABETH:\\nWhy, each man shall, as I am choked to see it,\\nWhiles nature between fanny they are a little of the fault\\nAnd lightly read them thus; and her well-met,\\nWhiles we have been upon his son blind damned on thy bonds.',\n",
              " 'Second Citizen:\\nNo.',\n",
              " \"First Lord:\\nRemoved, I cannot speak no host;\\nBut to be loath amazed,--Go parted hands, I know not,\\nMarshally, Are vile haste in the noble hand,\\nSo used as one and naked husband, the stars, not one Cassius,\\nAnd in thy offer'd bone in silent trifles,\\nWho should unquiet, to me shall do me commanded\\nFor his rise in the present peace.\",\n",
              " \"But know'st thou\\nBring me my love?\",\n",
              " 'were all these sleep command.',\n",
              " \"What had thy hand your wit and conceit's bed?\",\n",
              " 'Doth it not find, so they are too dangerous,\\nWhen diomed had he choked low nor with your daughter than Hecuba?',\n",
              " 'Second Lord:\\nIs all his oaths?',\n",
              " \"he that seems children that take\\ntheir defendant; she his name,\\nThou shouldst eat theirs to speak to day, indeed:\\nBy my troth, lord, I know, have drunk my welcome,\\nUnless that seemeth of the table, cousin Hubert,\\nWith present obedience claughter'd with her,\\nOf when the time upon their safety,\\nWhom my reporter's faces, he hath told me,\\nWhen he had come not distracting all Prospero.\",\n",
              " \"AENEAS:\\nO thou man, a traitor for myself and Hector's hatch!\",\n",
              " \"Fit happy life in civil stone, and were a wonder'd point,\\nTo make news et this dolour here, my liege, and wise\\nHigh run with princes: some content, run cold to be\\nThe measure of the manage of a glorious charge.\",\n",
              " \"Sir, I'll asleep.\",\n",
              " 'MERCUTIO:\\nI would not regreet but your tribunes suffoce you?',\n",
              " 'Third Gentleman:\\nYour cousin Sir John Northumberland that loves me well,\\nAnd it comes royal and most inservant.',\n",
              " \"EMILIA:\\nPardon me, madam;\\nIn best take it not to the sun as soonman's stomach\\nThat why he says this as he famished the nurse\\nTo beat purpose to make the passage of their sweetest knights:\\nPluck not a huntred feebleness, subdued his title,\\nI'll walk my hands, my heart thou swear'st from thee.\",\n",
              " \"DUKE VINCENTIO:\\nRust not all trazards, that thou hast he not glad me\\nAnd so shine and two of our book, sir: I saw 'em\\nIn what is pipe of smock, perform'd,\\nMust join'd to the unto the noving bear;\\nFrom bringing winged one is recreantly,\\nIn peace, to make a field\\nThat I have wounded what shall have with other head.\",\n",
              " 'Give me thy recompense are out of death,\\nOr else resolved too ground.',\n",
              " 'Lieutenant:\\nHow fares thee to command?',\n",
              " 'Do it so.',\n",
              " \"PISTOL:\\nStrumpet from my name, unto't, Philomelius, lay the garland.\",\n",
              " 'Good Caesar, sweet good stocks, and marry with her words in thy\\nproud people, if he want all unhappy sights.',\n",
              " 'Revenge\\nTo be so means to you and honour for my flesh.',\n",
              " \"AJAX:\\nFair woes, I'll never play the further kind;\\nBut who's the prey by thy shoulder, and only\\nmore such gold of such a point of soldier and the got?\",\n",
              " \"KING PHILIP:\\nPeace, you had not the subjects laughman's\\ncrown!\",\n",
              " 'O, sir, I am the house.']"
            ]
          },
          "metadata": {},
          "execution_count": 126
        }
      ]
    },
    {
      "cell_type": "code",
      "source": [],
      "metadata": {
        "id": "YwOqupiFqY4T"
      },
      "execution_count": null,
      "outputs": []
    }
  ]
}